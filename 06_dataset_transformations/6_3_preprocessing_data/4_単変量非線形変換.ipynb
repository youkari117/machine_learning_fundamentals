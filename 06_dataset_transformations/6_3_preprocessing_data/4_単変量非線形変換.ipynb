{
 "cells": [
  {
   "cell_type": "code",
   "execution_count": 1,
   "id": "f0295b1c",
   "metadata": {},
   "outputs": [],
   "source": [
    "import numpy as np\n",
    "import pandas as pd\n",
    "import matplotlib.pyplot as plt\n",
    "import seaborn as sns\n",
    "sns.set_style(\"whitegrid\")\n",
    "%matplotlib inline"
   ]
  },
  {
   "cell_type": "code",
   "execution_count": 2,
   "id": "c32dd3a3",
   "metadata": {},
   "outputs": [
    {
     "name": "stdout",
     "output_type": "stream",
     "text": [
      "[ 1.59327362  0.5687224  -0.11448705]\n",
      "(1000, 3)\n",
      "(1000, 3)\n",
      "(1000, 3)\n",
      "(1000,)\n",
      "Number of feature appearances:\n",
      "[28 38 68 48 61 59 45 56 37 40 35 34 36 26 23 26 27 21 23 23 18 21 10  9\n",
      " 17  9  7 14 12  7  3  8  4  5  5  3  4  2  4  1  1  3  2  5  3  8  2  5\n",
      "  2  1  2  3  3  2  2  3  3  0  1  2  1  0  0  3  1  0  0  0  1  3  0  1\n",
      "  0  2  0  1  1  0  0  0  0  1  0  0  2  2  0  1  1  0  0  0  0  1  1  0\n",
      "  0  0  0  0  0  0  1  0  0  0  0  0  1  1  0  0  1  0  0  0  0  0  0  0\n",
      "  1  0  0  0  0  1  0  0  0  0  0  0  0  0  0  0  0  0  0  0  1]\n"
     ]
    },
    {
     "data": {
      "text/plain": [
       "Text(0.5, 0, 'Value')"
      ]
     },
     "execution_count": 2,
     "metadata": {},
     "output_type": "execute_result"
    },
    {
     "data": {
      "image/png": "[encoded data removed]",
      "text/plain": [
       "<Figure size 432x288 with 1 Axes>"
      ]
     },
     "metadata": {
      "needs_background": "light"
     },
     "output_type": "display_data"
    },
    {
     "data": {
      "image/png": "[encoded data removed]",
      "text/plain": [
       "<Figure size 432x288 with 1 Axes>"
      ]
     },
     "metadata": {
      "needs_background": "light"
     },
     "output_type": "display_data"
    }
   ],
   "source": [
    "# 説明用のデータ生成\n",
    "rnd = np.random.RandomState(0)\n",
    "X_org = rnd.normal(size =(1000,3))\n",
    "w = rnd.normal(size = 3)\n",
    "plt.figure()\n",
    "plt.hist(X_org)\n",
    "print(w)\n",
    "\n",
    "print(X_org.shape)\n",
    "print((10 * np.exp(X_org)).shape)\n",
    "X = rnd.poisson(10 * np.exp(X_org))\n",
    "y = np.dot(X_org, w)\n",
    "print(X.shape)\n",
    "print(y.shape)\n",
    "\n",
    "print(f\"Number of feature appearances:\\n{np.bincount(X[:,0])}\")\n",
    "\n",
    "plt.figure()\n",
    "bins = np.bincount(X[:,0])\n",
    "plt.bar(range(len(bins)), bins)\n",
    "plt.ylabel(\"Number of appearances\")\n",
    "plt.xlabel(\"Value\")"
   ]
  },
  {
   "cell_type": "code",
   "execution_count": 3,
   "id": "82ca6c6b",
   "metadata": {},
   "outputs": [
    {
     "name": "stdout",
     "output_type": "stream",
     "text": [
      "0.6224186236310756\n",
      "0.8749342372887815\n"
     ]
    },
    {
     "data": {
      "image/png": "[encoded data removed]",
      "text/plain": [
       "<Figure size 432x288 with 1 Axes>"
      ]
     },
     "metadata": {
      "needs_background": "light"
     },
     "output_type": "display_data"
    }
   ],
   "source": [
    "# 決定木ベースのモデルと異なり、線形モデルやニューラルネットワークモデルは、特徴量とターゲットに非線形関係があると、モデリングが難しくなる\n",
    "# ほとんどのモデルは、ここの特徴量が（回帰の場合には出力も）、おおよそガウス分布に従っているときに最もうまく機能する\n",
    "# logやexpによる変化は小手先の技ではあるが、これを実現する簡単で効果的な方法である\n",
    "# このような変換が特に有効なよくあるケースは、整数のカウントデータを扱う場合だ\n",
    "# （上記最下のグラフのような）この種の分布（小さい値が多く、まれにとても大きな値がある）は実データには非常によく出現する\n",
    "# しかし、このようなデータは多くの線形モデルではうまく扱えないが、下記例では対数変換を行うと、性能がはるかによくなった\n",
    "# この種の変換は決定木ベースのモデルには関係ないが、線形モデルにとっては本質的である\n",
    "# 回帰モデルの場合は、ターゲット変数yも変換した方がよい場合もある\n",
    "# カウントデータ（例えば注文数など）の予測は一般的なタスクだが、log(y+1)で変換するとうまくいくことも多い\n",
    "# SVM、最近棒法、ニューラルネットワークは、ビニング、多項式、交互作用の恩恵を受けることがあるが、線形モデルの場合ほど大きなものでない\n",
    "from sklearn.linear_model import Ridge\n",
    "from sklearn.model_selection import train_test_split\n",
    "\n",
    "X_train, X_test, y_train, y_test = train_test_split(X, y, random_state = 0)\n",
    "score = Ridge().fit(X_train, y_train).score(X_test, y_test)\n",
    "print(score)\n",
    "\n",
    "# データに0値があるので（そして対数は0に対して定義できないので）、 + 1 をしている\n",
    "X_train_log = np.log(X_train + 1)\n",
    "X_test_log = np.log(X_test + 1)\n",
    "\n",
    "plt.hist(X_train_log[:,0], bins = 25, color = \"gray\")\n",
    "plt.ylabel(\"Number of appearances\")\n",
    "plt.xlabel(\"Value\")\n",
    "\n",
    "score = Ridge().fit(X_train_log, y_train).score(X_test_log, y_test)\n",
    "print(score)"
   ]
  },
  {
   "cell_type": "code",
   "execution_count": null,
   "id": "aae5c123",
   "metadata": {},
   "outputs": [],
   "source": []
  }
 ],
 "metadata": {
  "kernelspec": {
   "display_name": "Python 3",
   "language": "python",
   "name": "python3"
  },
  "language_info": {
   "codemirror_mode": {
    "name": "ipython",
    "version": 3
   },
   "file_extension": ".py",
   "mimetype": "text/x-python",
   "name": "python",
   "nbconvert_exporter": "python",
   "pygments_lexer": "ipython3",
   "version": "3.8.10"
  }
 },
 "nbformat": 4,
 "nbformat_minor": 5
}
