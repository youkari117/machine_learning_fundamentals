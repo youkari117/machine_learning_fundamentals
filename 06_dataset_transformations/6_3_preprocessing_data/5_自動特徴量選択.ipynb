{
 "cells": [
  {
   "cell_type": "code",
   "execution_count": 1,
   "id": "4ffe1e4f",
   "metadata": {},
   "outputs": [],
   "source": [
    "import numpy as np\n",
    "import pandas as pd\n",
    "import matplotlib.pyplot as plt\n",
    "import seaborn as sns\n",
    "sns.set_style(\"whitegrid\")\n",
    "%matplotlib inline"
   ]
  },
  {
   "cell_type": "code",
   "execution_count": 2,
   "id": "d1a51a2d",
   "metadata": {},
   "outputs": [],
   "source": [
    "# 特徴量を追加すると、モデルは複雑になり、過剰適合の可能性が高くなる\n",
    "# 新しい特徴量を加える場合、また高次元データセット一般の場合、最も有用な特徴量だけを残して残りを捨てて、特徴量の数を減らすのは良い考えだ\n",
    "# 良い特徴量を見つける基本的な戦略が、単変量統計、モデルベース選択、反復選択の3つだ\n",
    "# これらの方法はすべて教師あり手法なので、モデルを適合するためのターゲットが必要である\n",
    "# 従って、データを訓練セットとテストセットに分割し、特徴量選択は、訓練セットだけを用いて行うようにしなければならない\n",
    "# 機械学習アルゴリズムに対してどの特徴量を入力として使ったらよいかわからない場合には、自動特徴量選択は有用である\n",
    "# 予測を高速化したい場合や、解釈しやすいモデルを構築したい場合などに、必要な特徴量の量を減らすためにも役に立つ\n",
    "# 実世界のデータでは、特徴量選択で性能が大幅に向上することはあまりない"
   ]
  },
  {
   "cell_type": "markdown",
   "id": "26bae387",
   "metadata": {},
   "source": [
    "<h4>単変量統計</h4>"
   ]
  },
  {
   "cell_type": "code",
   "execution_count": 3,
   "id": "78aee1b2",
   "metadata": {},
   "outputs": [
    {
     "name": "stdout",
     "output_type": "stream",
     "text": [
      "X_train.shape: (284, 80)\n",
      "X_train_selected.shape: (284, 40)\n",
      "[ True  True  True  True  True  True  True  True  True False  True False\n",
      "  True  True  True  True  True  True False False  True  True  True  True\n",
      "  True  True  True  True  True  True False False False  True False  True\n",
      " False False  True False False False False  True False False  True False\n",
      " False  True False  True False False False False False False  True False\n",
      "  True False False False False  True False  True False False False False\n",
      "  True  True False  True False False False False]\n"
     ]
    },
    {
     "data": {
      "text/plain": [
       "Text(0.5, 0, 'Sample index')"
      ]
     },
     "execution_count": 3,
     "metadata": {},
     "output_type": "execute_result"
    },
    {
     "data": {
      "image/png": "[encoded data removed]",
      "text/plain": [
       "<Figure size 1152x144 with 1 Axes>"
      ]
     },
     "metadata": {
      "needs_background": "light"
     },
     "output_type": "display_data"
    }
   ],
   "source": [
    "# 単変量統計では、個々の特徴量とターゲットとの間に統計的に顕著な関係があるかどうかを計算し、最も高い確信度で関連している特徴量が選択される\n",
    "# クラス分類の場合は、分散分析（analysis of variance:anova）として知られる手法である\n",
    "# この方法の特性は単変量であること、つまり個々の特徴量を個別に考慮することである\n",
    "# 単変量特徴量選択をsklearnで使うには、テストを選択する必要がある。通常、クラス分類にはf_classif(default)を、回帰にはf_regressionを用いる\n",
    "# さらに、テストで求められるp-値をもとに、特徴量を捨てる方法も指定する\n",
    "# これらの方法には、p-値が大きすぎる（ターゲットと関係なさそうだということを意味する）特徴量を捨てる際のスレッショルドを指定する\n",
    "# スレッショルドの計算方法は手法によって異なり、SelectKBestでは選択する特徴量の数を、SelectPercentileでは残す特徴量の割合を指定する\n",
    "from sklearn.datasets import load_breast_cancer\n",
    "from sklearn.feature_selection import SelectPercentile\n",
    "from sklearn.model_selection import train_test_split\n",
    "\n",
    "# cancerデータに情報量のないのノイズを加え、これらノイズが取り除かれることを期待する\n",
    "cancer = load_breast_cancer()\n",
    "rng = np.random.RandomState(42)\n",
    "noise = rng.normal(size = (len(cancer.data), 50))\n",
    "X_w_noise = np.hstack([cancer.data, noise])\n",
    "\n",
    "X_train, X_test, y_train, y_test = train_test_split(X_w_noise, cancer.target, random_state = 0, test_size = .5)\n",
    "select = SelectPercentile(percentile = 50)\n",
    "select.fit(X_train, y_train)\n",
    "X_train_selected = select.transform(X_train)\n",
    "print(f\"X_train.shape: {X_train.shape}\")\n",
    "print(f\"X_train_selected.shape: {X_train_selected.shape}\")\n",
    "\n",
    "# どの特徴量が使われているかをget_supportメソッドで調べることができる。このメソッドは選択された特徴量を示す真偽値のマスクを返す\n",
    "mask = select.get_support()\n",
    "print(mask)\n",
    "plt.matshow(mask.reshape(1, -1), cmap = \"gray_r\")\n",
    "plt.xlabel(\"Sample index\")"
   ]
  },
  {
   "cell_type": "code",
   "execution_count": 4,
   "id": "73d20cf0",
   "metadata": {},
   "outputs": [
    {
     "name": "stdout",
     "output_type": "stream",
     "text": [
      "Score with all features: 0.951\n",
      "Score with all features: 0.937\n"
     ]
    }
   ],
   "source": [
    "# 特徴量が多すぎてモデルを作ることができないような場合や、多くの特徴量が全く関係ないと思われるような場合には、単変量特徴量選択は有用だ\n",
    "from sklearn.linear_model import LogisticRegression\n",
    "\n",
    "X_test_selected = select.transform(X_test)\n",
    "lr = LogisticRegression(max_iter = 10000)\n",
    "lr.fit(X_train, y_train)\n",
    "print(f\"Score with all features: {lr.score(X_test, y_test):.3f}\")\n",
    "lr.fit(X_train_selected, y_train)\n",
    "print(f\"Score with all features: {lr.score(X_test_selected, y_test):.3f}\")"
   ]
  },
  {
   "cell_type": "markdown",
   "id": "a44834c4",
   "metadata": {},
   "source": [
    "<h4>モデルベース特徴量選択</h4>"
   ]
  },
  {
   "cell_type": "code",
   "execution_count": 5,
   "id": "c912f123",
   "metadata": {},
   "outputs": [
    {
     "name": "stdout",
     "output_type": "stream",
     "text": [
      "X_train.shape: (284, 80)\n",
      "X_train_l1.shape: (284, 40)\n",
      "Test score: 0.947\n"
     ]
    },
    {
     "data": {
      "image/png": "[encoded data removed]",
      "text/plain": [
       "<Figure size 1152x144 with 1 Axes>"
      ]
     },
     "metadata": {
      "needs_background": "light"
     },
     "output_type": "display_data"
    }
   ],
   "source": [
    "# モデルベース特徴量選択は、教師あり学習モデルを用いて個々の特徴量の重要性を判断し、重要なものだけを残す手法である\n",
    "# 特徴量選択に用いる教師ありモデルは、最終的に使う教師あり学習モデルと同じでなくともよい\n",
    "# 特徴量選択に用いるモデルは、選択時に特徴量に順番をつけるために、個々の特徴量の重要性の指標を出力するものでなければならない\n",
    "# 決定木や決定木ベースのモデルには、特徴量の重要性そのものをエンコードしたfeature_importances_属性がある\n",
    "# 線形モデルには係数があり、これも絶対値を取れば、特徴量の重要性を捉えた値として利用できる\n",
    "# L1ペナルティを用いた線形モデルは、モデルによる特徴量選択として考えることもできるが、これを特徴量選択の前処理過程のみとして使うこともできる\n",
    "# 単変量選択の場合と対照的に、モデルベースの選択は、すべての特徴量を同時に考慮するので、変数間の交互作用を捉えることができる\n",
    "# モデルベース特徴量選択を用いるにはSelectFromModel変換器を用いればよい\n",
    "# SelectFromModelクラスは教師あり学習モデルで得られた特徴量の重要性が、指定したスレッショルドよりも大きい特徴量だけを選択する\n",
    "from sklearn.feature_selection import SelectFromModel\n",
    "from sklearn.ensemble import RandomForestClassifier\n",
    "\n",
    "select = SelectFromModel(RandomForestClassifier(n_estimators = 100, random_state = 42), threshold = \"median\")\n",
    "select.fit(X_train, y_train)\n",
    "X_train_l1 = select.transform(X_train)\n",
    "print(f\"X_train.shape: {X_train.shape}\")\n",
    "print(f\"X_train_l1.shape: {X_train_l1.shape}\")\n",
    "\n",
    "mask = select.get_support()\n",
    "plt.matshow(mask.reshape(1, -1), cmap = \"gray_r\")\n",
    "plt.xlabel(\"Sample index\")\n",
    "\n",
    "X_test_l1 = select.transform(X_test)\n",
    "score = LogisticRegression(max_iter = 10000).fit(X_train_l1, y_train).score(X_test_l1, y_test)\n",
    "print(f\"Test score: {score:.3f}\")"
   ]
  },
  {
   "cell_type": "markdown",
   "id": "3bd925f2",
   "metadata": {},
   "source": [
    "<h4>反復特徴量選択</h4>\n",
    "<h4>--再帰的特徴量削減（recursive feature elimination : RFE）--</h4>"
   ]
  },
  {
   "cell_type": "code",
   "execution_count": 6,
   "id": "5d39364d",
   "metadata": {},
   "outputs": [
    {
     "name": "stdout",
     "output_type": "stream",
     "text": [
      "Test score: 0.940\n",
      "Test score: 0.951\n"
     ]
    },
    {
     "data": {
      "image/png": "[encoded data removed]",
      "text/plain": [
       "<Figure size 1152x144 with 1 Axes>"
      ]
     },
     "metadata": {
      "needs_background": "light"
     },
     "output_type": "display_data"
    }
   ],
   "source": [
    "# 反復特徴量選択では、異なる特徴量を用いた一連のモデルを作り、これには異なる２つの方法がある\n",
    "# 1. 全く特徴量を使わないところから、ある基準が満たされるところまで一つずつ特徴量を加えていく方法\n",
    "# 2. すべての特徴量を使う状態から一つずつ特徴量を取り除いていく方法\n",
    "# 再帰的特徴量削減：すべての特徴量から開始してモデルを作り、モデル作成⇒最も重要度が低い特徴量を削除、を事前に定めた数の特徴量になるまで繰り返す\n",
    "# 再帰的特徴量削減が機能するためには、モデルベース選択の場合と同様に、選択に用いるモデルが特徴量の重要性を決定する方法を提供している必要がある\n",
    "from sklearn.feature_selection import RFE\n",
    "\n",
    "select = RFE(RandomForestClassifier(n_estimators = 100, random_state = 42), n_features_to_select = 40)\n",
    "select.fit(X_train, y_train)\n",
    "mask = select.get_support()\n",
    "plt.matshow(mask.reshape(1, -1), cmap = \"gray_r\")\n",
    "plt.xlabel(\"Sample index\")\n",
    "\n",
    "X_train_rfe = select.transform(X_train)\n",
    "X_test_rfe = select.transform(X_test)\n",
    "score = LogisticRegression(max_iter = 10000).fit(X_train_rfe, y_train).score(X_test_rfe, y_test)\n",
    "print(f\"Test score: {score:.3f}\")\n",
    "print(f\"Test score: {select.score(X_test, y_test):.3f}\")"
   ]
  },
  {
   "cell_type": "code",
   "execution_count": null,
   "id": "277fd8d0",
   "metadata": {},
   "outputs": [],
   "source": []
  }
 ],
 "metadata": {
  "kernelspec": {
   "display_name": "Python 3",
   "language": "python",
   "name": "python3"
  },
  "language_info": {
   "codemirror_mode": {
    "name": "ipython",
    "version": 3
   },
   "file_extension": ".py",
   "mimetype": "text/x-python",
   "name": "python",
   "nbconvert_exporter": "python",
   "pygments_lexer": "ipython3",
   "version": "3.8.10"
  }
 },
 "nbformat": 4,
 "nbformat_minor": 5
}
