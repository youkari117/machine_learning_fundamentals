{
 "cells": [
  {
   "cell_type": "markdown",
   "id": "a0c0a494-6b45-4ef6-84f0-b33c016026e6",
   "metadata": {},
   "source": [
    "<h1>Cross Validataion</h1>"
   ]
  },
  {
   "cell_type": "markdown",
   "id": "67d9dc52-1152-4d9b-9296-cd9ff85cef06",
   "metadata": {},
   "source": [
    "<h4>k分割交差検証</h4>\n",
    "cross_val_score()関数は、デフォルトで5分割交差検証を行い、5つの精度を返す。パラメータcvで分割数を変更することができる<br>\n",
    "交差検証の精度をまとめるには、一般に平均値を用いる<br>\n",
    "cross_val_scoreは分類タスクの場合、デフォルトで後に述べる層化k分割交差検証となる\n",
    "cross_val_predict()関数は、訓練セットのすべてのインスタンスのスコア(method引数で、予測値そのもの（predict）やdecision_function, predict_probaなどを設定できる)を計算して返却する\n",
    "\n",
    "<h4>層化k分割交差検証</h4>\n",
    "層化交差検証では、各分割内でのクラスの比率が全体の比率と同じになるように分割する<br>\n",
    "一般に、クラス分類器を評価するには、単純なk分割交差検証ではなく層化k分割交差検証を使った方がよい<br>\n",
    "回帰に関しては、scikit-learnは標準的なk分割交差検証（層化ではない）をデフォルトで用いる<br>\n",
    "scikit-learnでは、cvパラメータに交差検証分割器を与えることでデータの分割方法をより詳細に制御することができる\n",
    "\n",
    "<h4>1つ抜き交差検証（LeaveOneOut）</h4>\n",
    "1つ抜き交差検証は、k分割交差検証の個々の分割が1サンプルしかないものだと考えることができる\n",
    "\n",
    "<h4>シャッフル分割交差検証</h4>\n",
    "この手法では、毎回train_size個の点を選び出して訓練セットとし、test_size個の（訓練セットとは重複しない）点を選び出してテストセットとする。これをn_splits回繰り返す<br>\n",
    "シャッフル分割交差検証を用いると、訓練セットとテストセットのサイズとは独立に繰り返し回数を制御できる<br>\n",
    "train_sizeとtest_sizeの和が1にならないように設定することで、データの一部だけを用いるようにすることもできる（サブサンプリング）<br>\n",
    "ShuffleSplitにも層化バージョンがある（StratifiedShuffleSplit）\n",
    "\n",
    "<h4>グループ付き交差検証</h4>\n",
    "例えば、顔画像から感情を認識するシステムを作るために、新しい顔に対する汎化性能を正確に評価するには、訓練セットとテストセットに含まれている人が重ならないようにする必要がある。これを実現するには、GroupKFoldを用いればよい。この関数は引数としてgroupsという配列を取る。この配列には画像に写っている人を指定する<br>\n",
    "ここでは、group配列はデータに含まれる、訓練セットとテストセットを分割する際に分割してはならないグループを示す<br>\n",
    "サンプルはグループごとに並んでいなくてもよい。個々のグループは完全に訓練セットに入っているか、完全にテストセットに入っているかのどちらかになる"
   ]
  },
  {
   "cell_type": "code",
   "execution_count": 1,
   "id": "0fd39d6f",
   "metadata": {},
   "outputs": [],
   "source": [
    "import numpy as np\n",
    "import pandas as pd\n",
    "import matplotlib.pyplot as plt\n",
    "import seaborn as sns\n",
    "sns.set_style(\"whitegrid\")\n",
    "%matplotlib inline"
   ]
  },
  {
   "cell_type": "code",
   "execution_count": 2,
   "id": "9dec3c4b",
   "metadata": {},
   "outputs": [],
   "source": [
    "import mglearn"
   ]
  },
  {
   "cell_type": "markdown",
   "id": "8cc4b539",
   "metadata": {},
   "source": [
    "<h4>k分割交差検証</h4>"
   ]
  },
  {
   "cell_type": "code",
   "execution_count": 3,
   "id": "d964b1ad",
   "metadata": {},
   "outputs": [
    {
     "data": {
      "image/png": "[encoded data removed]",
      "text/plain": [
       "<Figure size 864x144 with 1 Axes>"
      ]
     },
     "metadata": {
      "needs_background": "light"
     },
     "output_type": "display_data"
    }
   ],
   "source": [
    "mglearn.plots.plot_cross_validation()"
   ]
  },
  {
   "cell_type": "code",
   "execution_count": 4,
   "id": "fa2f69b1",
   "metadata": {},
   "outputs": [
    {
     "name": "stdout",
     "output_type": "stream",
     "text": [
      "Cross-validation scores: [0.96666667 1.         0.93333333 0.96666667 1.        ]\n",
      "Cross-validation scores: [0.98 0.96 0.98]\n",
      "Average cross-validation score: 0.97\n",
      "[[  6.86543139   3.0033307   -9.86876209]\n",
      " [  6.54000007   3.16837191  -9.70837198]\n",
      " [  7.04240572   3.04772022 -10.09012594]\n",
      " [  6.53624798   3.04186497  -9.57811295]\n",
      " [  6.99902615   2.93687287  -9.93589902]\n",
      " [  6.15278325   2.70256974  -8.85535299]\n",
      " [  6.92602632   2.84374031  -9.76976663]\n",
      " [  6.59448978   3.00973943  -9.6042292 ]\n",
      " [  6.70001315   3.09147435  -9.7914875 ]\n",
      " [  6.48886221   3.1962355   -9.6850977 ]\n",
      " [  6.62929041   3.06700278  -9.69629319]\n",
      " [  6.39330976   2.84349836  -9.23680812]\n",
      " [  6.62291673   3.10688663  -9.72980336]\n",
      " [  7.54424634   2.89215647 -10.4364028 ]\n",
      " [  7.42235986   3.21751926 -10.63987912]\n",
      " [  6.89852546   2.79874273  -9.69726819]\n",
      " [  7.06950637   2.85374815  -9.92325453]\n",
      " [  6.72056934   2.91087358  -9.63144292]\n",
      " [  6.01376519   3.06985738  -9.08362257]\n",
      " [  6.74224679   2.78637293  -9.52861973]\n",
      " [  5.93332797   3.23861628  -9.17194425]\n",
      " [  6.59815407   2.88678761  -9.48494168]\n",
      " [  8.10060352   2.96000777 -11.06061129]\n",
      " [  5.65492546   2.8970249   -8.55195036]\n",
      " [  5.6868795    2.93672143  -8.62360093]\n",
      " [  5.9645151    3.21326297  -9.17777806]\n",
      " [  6.1251179    2.92114028  -9.04625819]\n",
      " [  6.58039192   3.15756906  -9.73796098]\n",
      " [  6.72901793   3.2096955   -9.93871343]\n",
      " [  6.26227112   3.01673516  -9.27900628]\n",
      " [  6.13257882   3.00059385  -9.13317267]\n",
      " [  6.21018222   3.07061334  -9.28079556]\n",
      " [  7.25487382   3.01376322 -10.26863703]\n",
      " [  7.36489053   3.07312821 -10.43801874]\n",
      " [  6.32969802   3.07368188  -9.4033799 ]\n",
      " [  7.09399098   3.14642624 -10.24041722]\n",
      " [  6.94269311   3.31736807 -10.26006118]\n",
      " [  7.13913174   3.02192935 -10.16106109]\n",
      " [  6.90573963   2.85368588  -9.7594255 ]\n",
      " [  6.53318094   3.08984872  -9.62302966]\n",
      " [  7.10972362   2.95269186 -10.06241548]\n",
      " [  6.30515089   2.99812774  -9.30327863]\n",
      " [  7.20943832   2.77048122  -9.97991953]\n",
      " [  6.10725925   2.65257058  -8.75982983]\n",
      " [  5.80445242   2.70808743  -8.51253984]\n",
      " [  6.53432654   2.95255606  -9.48688259]\n",
      " [  6.70935386   2.93196919  -9.64132305]\n",
      " [  6.88724857   2.86028415  -9.74753272]\n",
      " [  6.77546724   3.09682773  -9.87229497]\n",
      " [  6.80093344   3.06003804  -9.86097148]\n",
      " [ -3.2734573    2.18796004   1.08549725]\n",
      " [ -2.60883534   1.98643977   0.62239556]\n",
      " [ -3.87903319   2.09941196   1.77962123]\n",
      " [ -1.5554477    2.38119964  -0.82575195]\n",
      " [ -3.23162659   2.16832944   1.06329716]\n",
      " [ -2.40609703   2.15483854   0.25125849]\n",
      " [ -3.04509099   1.81276116   1.23232984]\n",
      " [  0.76758764   2.52920531  -3.29679295]\n",
      " [ -2.99706481   2.31504239   0.68202242]\n",
      " [ -0.93420531   2.06883202  -1.13462671]\n",
      " [ -0.182727     2.45493089  -2.27220388]\n",
      " [ -1.86721922   2.02123211  -0.15401288]\n",
      " [ -1.61810758   2.82827438  -1.2101668 ]\n",
      " [ -3.11580841   2.16858705   0.94722135]\n",
      " [ -0.20752976   2.1695321   -1.96200234]\n",
      " [ -2.49422658   2.46047528   0.0337513 ]\n",
      " [ -2.44576322   1.81496926   0.63079396]\n",
      " [ -1.33915129   2.52627848  -1.18712719]\n",
      " [ -3.38918217   2.41970201   0.96948016]\n",
      " [ -1.05502436   2.43890356  -1.38387921]\n",
      " [ -3.48390884   1.62167945   1.86222938]\n",
      " [ -1.50287896   2.40062581  -0.89774685]\n",
      " [ -4.20992392   2.24806148   1.96186244]\n",
      " [ -3.07748618   2.34464677   0.73283941]\n",
      " [ -2.24651301   2.4407743   -0.19426128]\n",
      " [ -2.5738648    2.39531768   0.17854712]\n",
      " [ -3.79053502   2.46981884   1.32071618]\n",
      " [ -4.35286249   2.07899893   2.27386356]\n",
      " [ -2.77295536   2.0646258    0.70832956]\n",
      " [ -0.028675     2.63113501  -2.60246001]\n",
      " [ -0.92720848   2.41718476  -1.48997629]\n",
      " [ -0.58829762   2.52837336  -1.94007574]\n",
      " [ -1.10205181   2.37912876  -1.27707695]\n",
      " [ -4.42880282   1.91932768   2.50947515]\n",
      " [ -2.38841287   1.67156844   0.71684444]\n",
      " [ -2.35086323   1.78794375   0.56291948]\n",
      " [ -3.27977766   2.34729049   0.93248717]\n",
      " [ -2.96059634   2.61863274   0.3419636 ]\n",
      " [ -1.31635275   2.0401217   -0.72376894]\n",
      " [ -1.51092562   2.16221934  -0.65129372]\n",
      " [ -2.08061081   2.05980171   0.0208091 ]\n",
      " [ -2.66619154   2.09071722   0.57547432]\n",
      " [ -1.26264016   2.32541111  -1.06277096]\n",
      " [  0.6763784    2.27244252  -2.94882093]\n",
      " [ -1.66290832   2.06051214  -0.39760382]\n",
      " [ -1.35350248   2.11119221  -0.75768973]\n",
      " [ -1.53594602   2.06240648  -0.52646046]\n",
      " [ -1.98653257   2.32261518  -0.3360826 ]\n",
      " [  1.41555337   2.26950008  -3.68505346]\n",
      " [ -1.38423477   2.11366119  -0.72942641]\n",
      " [ -6.99766406   0.90909398   6.08857007]\n",
      " [ -4.54749749   1.65155554   2.89594195]\n",
      " [ -7.01023281   1.57096561   5.4392672 ]\n",
      " [ -5.69951296   1.70726077   3.99225219]\n",
      " [ -6.58082698   1.35718136   5.22364562]\n",
      " [ -8.90141894   1.60458059   7.29683834]\n",
      " [ -2.66627287   1.7606225    0.90565037]\n",
      " [ -7.83537229   1.86033858   5.9750337 ]\n",
      " [ -6.70432427   1.94856415   4.75576011]\n",
      " [ -7.41931159   0.98416729   6.4351443 ]\n",
      " [ -4.58088899   1.68638863   2.89450036]\n",
      " [ -5.33700984   1.86875565   3.46825419]\n",
      " [ -5.92518027   1.76535341   4.15982685]\n",
      " [ -4.6029457    1.53439026   3.06855545]\n",
      " [ -5.0296342    1.11597785   3.91365635]\n",
      " [ -5.3135715    1.34160228   3.97196922]\n",
      " [ -5.49249735   1.86738294   3.62511441]\n",
      " [ -8.55421817   1.66978673   6.88443144]\n",
      " [-10.15648463   1.98437443   8.1721102 ]\n",
      " [ -4.48196677   2.23380298   2.24816379]\n",
      " [ -6.53223457   1.47901105   5.05322352]\n",
      " [ -4.17280826   1.43916086   2.73364741]\n",
      " [ -9.29550762   2.00685534   7.28865228]\n",
      " [ -4.33215871   1.94015322   2.3920055 ]\n",
      " [ -6.16145595   1.52069576   4.64076019]\n",
      " [ -6.8603129    1.9563458    4.9039671 ]\n",
      " [ -3.96323436   1.88334513   2.07988923]\n",
      " [ -3.98234678   1.75485311   2.22749367]\n",
      " [ -6.25978241   1.57170803   4.68807438]\n",
      " [ -6.36052468   2.2224456    4.13807908]\n",
      " [ -7.55898858   2.23783832   5.32115026]\n",
      " [ -7.62699989   2.05335169   5.5736482 ]\n",
      " [ -6.2892904    1.46359316   4.82569724]\n",
      " [ -4.35056818   2.15270304   2.19786514]\n",
      " [ -5.54024325   2.11840293   3.42184032]\n",
      " [ -7.89853068   1.96329384   5.93523684]\n",
      " [ -5.89000009   1.0209654    4.86903469]\n",
      " [ -5.36093704   1.76221605   3.59872098]\n",
      " [ -3.64163784   1.67979718   1.96184066]\n",
      " [ -5.62860822   1.77796814   3.85064008]\n",
      " [ -6.17965246   1.4036707    4.77598176]\n",
      " [ -4.98472808   1.71251861   3.27220947]\n",
      " [ -4.46321054   1.5024707    2.96073984]\n",
      " [ -6.74978345   1.43785561   5.31192784]\n",
      " [ -6.34404601   1.24872269   5.09532332]\n",
      " [ -5.22060269   1.60256765   3.61803504]\n",
      " [ -4.6103746    1.8651888    2.7451858 ]\n",
      " [ -4.84231604   1.71768235   3.12463369]\n",
      " [ -5.14026926   1.16114106   3.9791282 ]\n",
      " [ -4.1538047    1.55315076   2.60065393]]\n"
     ]
    }
   ],
   "source": [
    "from sklearn.model_selection import cross_val_score\n",
    "from sklearn.model_selection import cross_val_predict\n",
    "from sklearn.datasets import load_iris\n",
    "from sklearn.linear_model import  LogisticRegression\n",
    "\n",
    "iris = load_iris()\n",
    "logreg = LogisticRegression(max_iter = 10000)\n",
    "scores = cross_val_score(logreg, iris.data, iris.target)\n",
    "print(f\"Cross-validation scores: {scores}\")\n",
    "scores = cross_val_score(logreg, iris.data, iris.target, cv = 3)\n",
    "print(f\"Cross-validation scores: {scores}\")\n",
    "print(f\"Average cross-validation score: {scores.mean():.2f}\")\n",
    "print(cross_val_predict(logreg, iris.data, iris.target, method = \"decision_function\"))"
   ]
  },
  {
   "cell_type": "markdown",
   "id": "affe1f86",
   "metadata": {},
   "source": [
    "<h4>層化k分割交差検証</h4>"
   ]
  },
  {
   "cell_type": "code",
   "execution_count": 5,
   "id": "bc2a30e6",
   "metadata": {},
   "outputs": [
    {
     "name": "stdout",
     "output_type": "stream",
     "text": [
      "Iris labels:\n",
      "[0 0 0 0 0 0 0 0 0 0 0 0 0 0 0 0 0 0 0 0 0 0 0 0 0 0 0 0 0 0 0 0 0 0 0 0 0\n",
      " 0 0 0 0 0 0 0 0 0 0 0 0 0 1 1 1 1 1 1 1 1 1 1 1 1 1 1 1 1 1 1 1 1 1 1 1 1\n",
      " 1 1 1 1 1 1 1 1 1 1 1 1 1 1 1 1 1 1 1 1 1 1 1 1 1 1 2 2 2 2 2 2 2 2 2 2 2\n",
      " 2 2 2 2 2 2 2 2 2 2 2 2 2 2 2 2 2 2 2 2 2 2 2 2 2 2 2 2 2 2 2 2 2 2 2 2 2\n",
      " 2 2]\n"
     ]
    }
   ],
   "source": [
    "print(f\"Iris labels:\\n{iris.target}\")"
   ]
  },
  {
   "cell_type": "code",
   "execution_count": 6,
   "id": "369ba59a",
   "metadata": {},
   "outputs": [
    {
     "data": {
      "image/png": "[encoded data removed]",
      "text/plain": [
       "<Figure size 864x360 with 2 Axes>"
      ]
     },
     "metadata": {
      "needs_background": "light"
     },
     "output_type": "display_data"
    }
   ],
   "source": [
    "mglearn.plots.plot_stratified_cross_validation()"
   ]
  },
  {
   "cell_type": "code",
   "execution_count": 7,
   "id": "8a2995aa",
   "metadata": {},
   "outputs": [
    {
     "name": "stdout",
     "output_type": "stream",
     "text": [
      "Cross-validation scores:\n",
      "[1.         1.         0.86666667 0.93333333 0.83333333]\n",
      "Cross-validation scores:\n",
      "[0. 0. 0.]\n",
      "Cross-validation score:\n",
      "[0.98 0.96 0.96]\n"
     ]
    }
   ],
   "source": [
    "from sklearn.model_selection import KFold\n",
    "\n",
    "kfold = KFold(n_splits = 5)\n",
    "print(f\"Cross-validation scores:\\n{cross_val_score(logreg, iris.data, iris.target, cv = kfold)}\")\n",
    "kfold = KFold(n_splits = 3)\n",
    "print(f\"Cross-validation scores:\\n{cross_val_score(logreg, iris.data, iris.target, cv = kfold)}\")\n",
    "kfold = KFold(n_splits = 3, shuffle = True, random_state = 0) # 層化ではないが、データをシャッフルしてサンプルがラベル順に並ばないようにする\n",
    "print(f\"Cross-validation score:\\n{cross_val_score(logreg, iris.data, iris.target, cv = kfold)}\")"
   ]
  },
  {
   "cell_type": "markdown",
   "id": "6550d587",
   "metadata": {},
   "source": [
    "<h4>1つ抜き交差検証（LeaveOneOut）</h4>"
   ]
  },
  {
   "cell_type": "code",
   "execution_count": 8,
   "id": "fcc3150d",
   "metadata": {},
   "outputs": [
    {
     "name": "stdout",
     "output_type": "stream",
     "text": [
      "Number of cv iterations:  150\n",
      "Mean accuracy: 0.97\n",
      "[1. 1. 1. 1. 1. 1. 1. 1. 1. 1. 1. 1. 1. 1. 1. 1. 1. 1. 1. 1. 1. 1. 1. 1.\n",
      " 1. 1. 1. 1. 1. 1. 1. 1. 1. 1. 1. 1. 1. 1. 1. 1. 1. 1. 1. 1. 1. 1. 1. 1.\n",
      " 1. 1. 1. 1. 1. 1. 1. 1. 1. 1. 1. 1. 1. 1. 1. 1. 1. 1. 1. 1. 1. 1. 0. 1.\n",
      " 1. 1. 1. 1. 1. 0. 1. 1. 1. 1. 1. 0. 1. 1. 1. 1. 1. 1. 1. 1. 1. 1. 1. 1.\n",
      " 1. 1. 1. 1. 1. 1. 1. 1. 1. 1. 0. 1. 1. 1. 1. 1. 1. 1. 1. 1. 1. 1. 1. 0.\n",
      " 1. 1. 1. 1. 1. 1. 1. 1. 1. 1. 1. 1. 1. 1. 1. 1. 1. 1. 1. 1. 1. 1. 1. 1.\n",
      " 1. 1. 1. 1. 1. 1.]\n"
     ]
    }
   ],
   "source": [
    "from sklearn.model_selection import LeaveOneOut\n",
    "\n",
    "loo =LeaveOneOut()\n",
    "scores = cross_val_score(logreg, iris.data, iris.target, cv = loo)\n",
    "print(\"Number of cv iterations: \",len(scores))\n",
    "print(f\"Mean accuracy: {scores.mean():.2f}\")\n",
    "print(scores)"
   ]
  },
  {
   "cell_type": "markdown",
   "id": "60b19a5b",
   "metadata": {},
   "source": [
    "<h4>シャッフル分割交差検証</h4>"
   ]
  },
  {
   "cell_type": "code",
   "execution_count": 9,
   "id": "0bd87b68",
   "metadata": {},
   "outputs": [
    {
     "data": {
      "image/png": "[encoded data removed]",
      "text/plain": [
       "<Figure size 720x144 with 1 Axes>"
      ]
     },
     "metadata": {
      "needs_background": "light"
     },
     "output_type": "display_data"
    }
   ],
   "source": [
    "mglearn.plots.plot_shuffle_split()"
   ]
  },
  {
   "cell_type": "code",
   "execution_count": 10,
   "id": "c46de1d3",
   "metadata": {},
   "outputs": [
    {
     "name": "stdout",
     "output_type": "stream",
     "text": [
      "Cross-validation scores:\n",
      "[0.98666667 0.97333333 0.97333333 0.97333333 0.97333333 0.96\n",
      " 0.96       1.         0.92       0.94666667]\n",
      "Cross-validation scores:\n",
      "[0.97333333 0.97333333 0.98666667 0.97333333 0.96       1.\n",
      " 0.96       0.96       0.96       0.94666667]\n"
     ]
    }
   ],
   "source": [
    "from sklearn.model_selection import ShuffleSplit\n",
    "from sklearn.model_selection import StratifiedShuffleSplit\n",
    "\n",
    "shuffle_split = ShuffleSplit(test_size = .5, train_size = .5, n_splits = 10)\n",
    "scores = cross_val_score(logreg, iris.data, iris.target, cv = shuffle_split)\n",
    "print(f\"Cross-validation scores:\\n{scores}\")\n",
    "shuffle_split = StratifiedShuffleSplit(test_size = .5, train_size = .5, n_splits = 10)\n",
    "scores = cross_val_score(logreg, iris.data, iris.target, cv = shuffle_split)\n",
    "print(f\"Cross-validation scores:\\n{scores}\")"
   ]
  },
  {
   "cell_type": "markdown",
   "id": "b52a734c",
   "metadata": {},
   "source": [
    "<h4>グループ付き交差検証</h4>"
   ]
  },
  {
   "cell_type": "code",
   "execution_count": 11,
   "id": "732484b3",
   "metadata": {},
   "outputs": [
    {
     "name": "stdout",
     "output_type": "stream",
     "text": [
      "Cross-validation scores:\n",
      "[0.75       0.6        0.66666667]\n"
     ]
    },
    {
     "data": {
      "image/png": "[encoded data removed]",
      "text/plain": [
       "<Figure size 720x144 with 1 Axes>"
      ]
     },
     "metadata": {
      "needs_background": "light"
     },
     "output_type": "display_data"
    }
   ],
   "source": [
    "from sklearn.model_selection import GroupKFold\n",
    "from sklearn.datasets import make_blobs\n",
    "\n",
    "X, y = make_blobs(n_samples = 12, random_state = 0)\n",
    "groups = [0,0,0,1,1,1,1,2,2,3,3,3]\n",
    "scores = cross_val_score(logreg, X, y, groups = groups, cv = GroupKFold(n_splits = 3))\n",
    "print(f\"Cross-validation scores:\\n{scores}\")\n",
    "mglearn.plots.plot_group_kfold()"
   ]
  },
  {
   "cell_type": "code",
   "execution_count": null,
   "id": "e67697ed",
   "metadata": {},
   "outputs": [],
   "source": []
  }
 ],
 "metadata": {
  "kernelspec": {
   "display_name": "Python 3 (ipykernel)",
   "language": "python",
   "name": "python3"
  },
  "language_info": {
   "codemirror_mode": {
    "name": "ipython",
    "version": 3
   },
   "file_extension": ".py",
   "mimetype": "text/x-python",
   "name": "python",
   "nbconvert_exporter": "python",
   "pygments_lexer": "ipython3",
   "version": "3.8.12"
  }
 },
 "nbformat": 4,
 "nbformat_minor": 5
}
