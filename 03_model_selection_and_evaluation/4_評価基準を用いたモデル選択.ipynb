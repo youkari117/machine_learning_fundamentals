{
 "cells": [
  {
   "cell_type": "code",
   "execution_count": 1,
   "id": "fb534e28",
   "metadata": {},
   "outputs": [],
   "source": [
    "import numpy as np\n",
    "import pandas as pd\n",
    "import matplotlib.pyplot as plt\n",
    "import seaborn as sns\n",
    "sns.set_style(\"whitegrid\")\n",
    "%matplotlib inline"
   ]
  },
  {
   "cell_type": "code",
   "execution_count": null,
   "id": "ff037ac5",
   "metadata": {},
   "outputs": [],
   "source": []
  },
  {
   "cell_type": "code",
   "execution_count": 2,
   "id": "80f68782",
   "metadata": {},
   "outputs": [
    {
     "name": "stdout",
     "output_type": "stream",
     "text": [
      "Default scoring: [0.975      0.99166667 1.         0.99442897 0.98050139]\n",
      "Explicit accuracy scoring: [0.975      0.99166667 1.         0.99442897 0.98050139]\n",
      "AUC scoring: [0.99717078 0.99854252 1.         0.999828   0.98400413]\n"
     ]
    }
   ],
   "source": [
    "# AUCのような基準を、GridSearchCVやcross_val_scoreによるモデル選択で用いたいという場合も多いだろう\n",
    "# GridsearchCVにもcross_val_scoreにもあるscoringという引数を用いる。利用したい評価基準を文字列で与えるだけでよい\n",
    "# デフォルトの基準（精度）からAUCに変更するには、\"roc_auc\"をscoringパラメータに与えればよい\n",
    "# クラス分類におけるscoringパラメータの値として重要なものとしては以下\n",
    "# accuracy(デフォルト)、roc_auc(ROCカーブ下領域:AUC)、average_precison(適合率-再現率カーブ下領域)、f-値、f値_macro、f値_micro、f値_weighted\n",
    "# 回帰でよく用いられるのは、r2(決定係数)、mean_squared_error(平均二乗誤差)、mean_absolute_error(平均絶対誤差)だ\n",
    "from sklearn.datasets import load_digits\n",
    "from sklearn.model_selection import cross_val_score\n",
    "from sklearn.svm import SVC\n",
    "\n",
    "digits = load_digits()\n",
    "print(f\"Default scoring: {cross_val_score(SVC(), digits.data, digits.target == 9)}\") # scoring = \"accuracy\"が default\n",
    "explicit_accuracy = cross_val_score(SVC(), digits.data, digits.target == 9, scoring = \"accuracy\")\n",
    "print(f\"Explicit accuracy scoring: {explicit_accuracy}\")\n",
    "roc_auc = cross_val_score(SVC(), digits.data, digits.target == 9, scoring = \"roc_auc\")\n",
    "print(f\"AUC scoring: {roc_auc}\")"
   ]
  },
  {
   "cell_type": "code",
   "execution_count": 3,
   "id": "60504745",
   "metadata": {},
   "outputs": [
    {
     "name": "stdout",
     "output_type": "stream",
     "text": [
      "Grid-Search with accuracy\n",
      "Best parameters: {'gamma': 0.0001}\n",
      "Best cross-validation score(accuracy): 0.976\n",
      "Test set AUC: 0.992\n",
      "Test set accuracy: 0.973\n"
     ]
    }
   ],
   "source": [
    "from sklearn.model_selection import train_test_split\n",
    "from sklearn.model_selection import GridSearchCV\n",
    "from sklearn.metrics import roc_auc_score\n",
    "\n",
    "X_train, X_test, y_train, y_test = train_test_split(digits.data, digits.target == 9, random_state = 0)\n",
    "param_grid = {\"gamma\":[0.0001, 0.01, 0.1, 1, 10]}\n",
    "grid = GridSearchCV(SVC(), param_grid = param_grid)\n",
    "grid.fit(X_train, y_train)\n",
    "print(\"Grid-Search with accuracy\")\n",
    "print(f\"Best parameters: {grid.best_params_}\")\n",
    "print(f\"Best cross-validation score(accuracy): {grid.best_score_:.3f}\")\n",
    "print(f\"Test set AUC: {roc_auc_score(y_test, grid.decision_function(X_test)):.3f}\")\n",
    "print(f\"Test set accuracy: {grid.score(X_test, y_test):.3f}\")"
   ]
  },
  {
   "cell_type": "code",
   "execution_count": 4,
   "id": "4963700e",
   "metadata": {},
   "outputs": [
    {
     "name": "stdout",
     "output_type": "stream",
     "text": [
      "Grid-Search with AUC\n",
      "Best parameters: {'gamma': 0.01}\n",
      "Best cross-validation score (AUC): 0.998\n",
      "Test set AUC: 1.000\n"
     ]
    }
   ],
   "source": [
    "# AUCをスコアに用いる\n",
    "grid = GridSearchCV(SVC(), param_grid = param_grid, scoring = \"roc_auc\")\n",
    "grid.fit(X_train, y_train)\n",
    "print(\"Grid-Search with AUC\")\n",
    "print(f\"Best parameters:\", grid.best_params_)\n",
    "print(f\"Best cross-validation score (AUC): {grid.best_score_:.3f}\")\n",
    "print(f\"Test set AUC: {grid.score(X_test, y_test):.3f}\")"
   ]
  },
  {
   "cell_type": "code",
   "execution_count": null,
   "id": "a72b5db6",
   "metadata": {},
   "outputs": [],
   "source": []
  }
 ],
 "metadata": {
  "kernelspec": {
   "display_name": "Python 3 (ipykernel)",
   "language": "python",
   "name": "python3"
  },
  "language_info": {
   "codemirror_mode": {
    "name": "ipython",
    "version": 3
   },
   "file_extension": ".py",
   "mimetype": "text/x-python",
   "name": "python",
   "nbconvert_exporter": "python",
   "pygments_lexer": "ipython3",
   "version": "3.8.11"
  }
 },
 "nbformat": 4,
 "nbformat_minor": 5
}
