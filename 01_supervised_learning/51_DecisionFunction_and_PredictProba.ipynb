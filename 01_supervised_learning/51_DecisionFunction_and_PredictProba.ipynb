{
 "cells": [
  {
   "cell_type": "markdown",
   "id": "cee30677",
   "metadata": {},
   "source": [
    "<h1>Summary</h1>"
   ]
  },
  {
   "cell_type": "markdown",
   "id": "845b8e94",
   "metadata": {},
   "source": [
    "<h4>Decision Function(決定関数)</h4>\n",
    "・2クラス分類の場合<br>\n",
    "⇒<br>\n",
    "decision_functionの結果の配列は(n_samples,)の形になり、サンプルごとに一つの浮動小数点が返される<br>\n",
    "値が正であれば陽性クラスを、負であれば陰性（つまり陽性以外）クラスを意味する<br>\n",
    "decision_functionのレンジは決まっておらず、データとモデルパラメータに依存するため、どのようなスケールで結果が表示されるかわからず解釈が難しい<br>\n",
    "・多クラス分類の場合<br>\n",
    "⇒<br>\n",
    "decision_funcitonの結果の配列は(n_samples, n_classes)の形になる<br>\n",
    "各列は個々のクラスに対する「確信度スコア」で、大きいとそのクラスである可能性が高く、小さくなると可能性が低くなる。各データポイントに対して、確信度スコアが最大になるクラスを選ぶことで予測クラスが得られる<br>\n",
    "\n",
    "<h4>predict proba</h4>\n",
    "・2クラス分類の場合<br>\n",
    "⇒<br>\n",
    "predict_probaの出力は、それぞれのクラスに属する確率で、decision_functionの出力よりも理解しやすい<br>\n",
    "出力配列の形は、2クラス分類問題では、常に(n_samples, 2)になる<br>\n",
    "各行の第一エントリは第一クラスの予測確率で、第二エントリは第二クラスの予測確率である。確率なので、predict_probaの出力は常に0から1であり、双方の和は常に1になっている<br>\n",
    "2つのクラスの確率の和が1なので、どちらかが50%以上の確率（確信度）になっており、そのクラスが予測クラスになる<br>\n",
    "・多クラス分類の場合<br>\n",
    "⇒<br>\n",
    "predict_probaの出力も、decision_functionと同じで、(n_samples, n_classes)の形の配列となる<br>\n",
    "各クラスになる確率の和は1になる<br>\n",
    "<br>\n",
    "※注意<br>\n",
    "predictで得られた結果をdecision_functionやpredict_probaで得られた結果と比較する際には、クラスが文字列だったり等、0から始まる整数で表現されていない場合には、クラス分類器のclasses_属性を使って、実際のクラス名を使うようにしなければならない"
   ]
  },
  {
   "cell_type": "markdown",
   "id": "20efdefd",
   "metadata": {},
   "source": [
    "<h1>2クラス分類の場合</h1>"
   ]
  },
  {
   "cell_type": "code",
   "execution_count": 1,
   "id": "42b037d4",
   "metadata": {},
   "outputs": [],
   "source": [
    "import numpy as np\n",
    "import pandas as pd\n",
    "import matplotlib.pyplot as plt\n",
    "import seaborn as sns\n",
    "sns.set_style(\"whitegrid\")\n",
    "%matplotlib inline"
   ]
  },
  {
   "cell_type": "code",
   "execution_count": 2,
   "id": "d57770d1",
   "metadata": {},
   "outputs": [],
   "source": [
    "from sklearn.datasets import make_circles"
   ]
  },
  {
   "cell_type": "code",
   "execution_count": 3,
   "id": "fa610551",
   "metadata": {},
   "outputs": [],
   "source": [
    "X, y = make_circles(noise = 0.25, factor = 0.5, random_state = 1)\n",
    "y_named = np.array([\"blue\", \"red\"])[y]"
   ]
  },
  {
   "cell_type": "code",
   "execution_count": 4,
   "id": "9d19530b",
   "metadata": {},
   "outputs": [],
   "source": [
    "from sklearn.model_selection import train_test_split"
   ]
  },
  {
   "cell_type": "code",
   "execution_count": 5,
   "id": "3b7babe0",
   "metadata": {},
   "outputs": [],
   "source": [
    "X_train, X_test, y_train_named, y_test_named, y_train, y_test = train_test_split(X , y_named, y, random_state = 0)"
   ]
  },
  {
   "cell_type": "code",
   "execution_count": 6,
   "id": "34c02ef4",
   "metadata": {},
   "outputs": [],
   "source": [
    "from sklearn.ensemble import GradientBoostingClassifier"
   ]
  },
  {
   "cell_type": "code",
   "execution_count": 7,
   "id": "3fd013f0",
   "metadata": {},
   "outputs": [],
   "source": [
    "gbrt = GradientBoostingClassifier(random_state = 0).fit(X_train, y_train_named)"
   ]
  },
  {
   "cell_type": "code",
   "execution_count": 8,
   "id": "9aa09517",
   "metadata": {},
   "outputs": [
    {
     "data": {
      "text/plain": [
       "array([ 4.13592603, -1.70169917, -3.95106099, -3.62609552,  4.28986642,\n",
       "        3.66166081, -7.69097179,  4.11001686,  1.10753937,  3.40782222,\n",
       "       -6.46255955,  4.28986642,  3.90156346, -1.20031247,  3.66166081,\n",
       "       -4.17231157, -1.23010079, -3.91576223,  4.03602783,  4.11001686,\n",
       "        4.11001686,  0.65709014,  2.69826265, -2.65673274, -1.86776596])"
      ]
     },
     "execution_count": 8,
     "metadata": {},
     "output_type": "execute_result"
    }
   ],
   "source": [
    "decision_function = gbrt.decision_function(X_test)\n",
    "decision_function"
   ]
  },
  {
   "cell_type": "code",
   "execution_count": 9,
   "id": "dde4273f",
   "metadata": {},
   "outputs": [
    {
     "data": {
      "text/plain": [
       "array(['blue', 'red'], dtype='<U4')"
      ]
     },
     "execution_count": 9,
     "metadata": {},
     "output_type": "execute_result"
    }
   ],
   "source": [
    "gbrt.classes_"
   ]
  },
  {
   "cell_type": "code",
   "execution_count": 10,
   "id": "536a8e0c",
   "metadata": {},
   "outputs": [
    {
     "data": {
      "text/plain": [
       "array(['red', 'blue', 'blue', 'blue', 'red', 'red', 'blue', 'red', 'red',\n",
       "       'red', 'blue', 'red', 'red', 'blue', 'red', 'blue', 'blue', 'blue',\n",
       "       'red', 'red', 'red', 'red', 'red', 'blue', 'blue'], dtype='<U4')"
      ]
     },
     "execution_count": 10,
     "metadata": {},
     "output_type": "execute_result"
    }
   ],
   "source": [
    "pred = gbrt.classes_[(decision_function > 0).astype(int)]\n",
    "pred"
   ]
  },
  {
   "cell_type": "code",
   "execution_count": 11,
   "id": "9d144d7f",
   "metadata": {},
   "outputs": [
    {
     "data": {
      "text/plain": [
       "True"
      ]
     },
     "execution_count": 11,
     "metadata": {},
     "output_type": "execute_result"
    }
   ],
   "source": [
    "np.all(pred == gbrt.predict(X_test))"
   ]
  },
  {
   "cell_type": "code",
   "execution_count": 12,
   "id": "c200e352",
   "metadata": {},
   "outputs": [
    {
     "name": "stdout",
     "output_type": "stream",
     "text": [
      "Decision function minimum: -7.69\n",
      "Decision function maximum:  4.29\n"
     ]
    }
   ],
   "source": [
    "print(f\"Decision function minimum: {np.min(decision_function): .2f}\")\n",
    "print(f\"Decision function maximum: {np.max(decision_function): .2f}\")"
   ]
  },
  {
   "cell_type": "code",
   "execution_count": 13,
   "id": "42dba61a",
   "metadata": {},
   "outputs": [
    {
     "data": {
      "text/plain": [
       "array([[1.57362639e-02, 9.84263736e-01],\n",
       "       [8.45756526e-01, 1.54243474e-01],\n",
       "       [9.81128693e-01, 1.88713075e-02],\n",
       "       [9.74070327e-01, 2.59296728e-02],\n",
       "       [1.35214212e-02, 9.86478579e-01],\n",
       "       [2.50463747e-02, 9.74953625e-01],\n",
       "       [9.99543275e-01, 4.56725221e-04],\n",
       "       [1.61426376e-02, 9.83857362e-01],\n",
       "       [2.48329911e-01, 7.51670089e-01],\n",
       "       [3.20518935e-02, 9.67948107e-01],\n",
       "       [9.98441637e-01, 1.55836338e-03],\n",
       "       [1.35214212e-02, 9.86478579e-01],\n",
       "       [1.98099245e-02, 9.80190075e-01],\n",
       "       [7.68580365e-01, 2.31419635e-01],\n",
       "       [2.50463747e-02, 9.74953625e-01],\n",
       "       [9.84817480e-01, 1.51825198e-02],\n",
       "       [7.73836215e-01, 2.26163785e-01],\n",
       "       [9.80463909e-01, 1.95360915e-02],\n",
       "       [1.73607896e-02, 9.82639210e-01],\n",
       "       [1.61426376e-02, 9.83857362e-01],\n",
       "       [1.61426376e-02, 9.83857362e-01],\n",
       "       [3.41393574e-01, 6.58606426e-01],\n",
       "       [6.30759509e-02, 9.36924049e-01],\n",
       "       [9.34424749e-01, 6.55752512e-02],\n",
       "       [8.66199569e-01, 1.33800431e-01]])"
      ]
     },
     "execution_count": 13,
     "metadata": {},
     "output_type": "execute_result"
    }
   ],
   "source": [
    "predict_proba = gbrt.predict_proba(X_test)\n",
    "predict_proba"
   ]
  },
  {
   "cell_type": "code",
   "execution_count": 14,
   "id": "30e6560e",
   "metadata": {},
   "outputs": [
    {
     "data": {
      "text/plain": [
       "array([1., 1., 1., 1., 1., 1., 1., 1., 1., 1., 1., 1., 1., 1., 1., 1., 1.,\n",
       "       1., 1., 1., 1., 1., 1., 1., 1.])"
      ]
     },
     "execution_count": 14,
     "metadata": {},
     "output_type": "execute_result"
    }
   ],
   "source": [
    "predict_proba.sum(axis = 1)"
   ]
  },
  {
   "cell_type": "code",
   "execution_count": null,
   "id": "df276fd1",
   "metadata": {},
   "outputs": [],
   "source": []
  },
  {
   "cell_type": "markdown",
   "id": "57b299c4",
   "metadata": {},
   "source": [
    "<h1>多クラス分類の場合</h1>"
   ]
  },
  {
   "cell_type": "code",
   "execution_count": 15,
   "id": "ab3d42c9",
   "metadata": {},
   "outputs": [],
   "source": [
    "from sklearn.datasets import load_iris"
   ]
  },
  {
   "cell_type": "code",
   "execution_count": 16,
   "id": "cd99f394",
   "metadata": {},
   "outputs": [],
   "source": [
    "iris = load_iris()"
   ]
  },
  {
   "cell_type": "code",
   "execution_count": 17,
   "id": "e95fdf76",
   "metadata": {},
   "outputs": [],
   "source": [
    "X_train, X_test, y_train, y_test = train_test_split(iris.data, iris.target, random_state = 42)"
   ]
  },
  {
   "cell_type": "code",
   "execution_count": 18,
   "id": "0698c43b",
   "metadata": {},
   "outputs": [],
   "source": [
    "gbrt = GradientBoostingClassifier(learning_rate = 0.01, random_state = 0).fit(X_train, y_train)"
   ]
  },
  {
   "cell_type": "code",
   "execution_count": 19,
   "id": "6b44017f",
   "metadata": {},
   "outputs": [
    {
     "data": {
      "text/plain": [
       "array([[-1.995715  ,  0.04758267, -1.92720695],\n",
       "       [ 0.06146394, -1.90755736, -1.92793758],\n",
       "       [-1.99058203, -1.87637861,  0.09686725],\n",
       "       [-1.995715  ,  0.04758267, -1.92720695],\n",
       "       [-1.99730159, -0.13469108, -1.20341483],\n",
       "       [ 0.06146394, -1.90755736, -1.92793758],\n",
       "       [-1.995715  ,  0.04758267, -1.92720695],\n",
       "       [-1.99677434, -1.87637861,  0.09686725],\n",
       "       [-1.995715  ,  0.04758267, -1.92720695],\n",
       "       [-1.995715  ,  0.04758267, -1.92720695],\n",
       "       [-1.99677434, -1.87637861,  0.07863156],\n",
       "       [ 0.06146394, -1.90755736, -1.92793758],\n",
       "       [ 0.06146394, -1.90755736, -1.92793758],\n",
       "       [ 0.06146394, -1.90755736, -1.92793758],\n",
       "       [ 0.06146394, -1.90755736, -1.92793758],\n",
       "       [-1.995715  ,  0.04758267, -1.92720695],\n",
       "       [-1.99087515, -1.87637861,  0.09686725],\n",
       "       [-1.995715  ,  0.04758267, -1.92720695],\n",
       "       [-1.995715  ,  0.04758267, -1.92720695],\n",
       "       [-1.99087515, -1.87637861,  0.09686725],\n",
       "       [ 0.06146394, -1.90755736, -1.92793758],\n",
       "       [-1.99730159, -1.86429671,  0.04166049],\n",
       "       [ 0.06146394, -1.90755736, -1.92793758],\n",
       "       [-1.99087515, -1.87637861,  0.09686725],\n",
       "       [-1.99087515, -1.87637861,  0.07863156],\n",
       "       [-1.99087515, -1.87637861,  0.09686725],\n",
       "       [-1.99058203, -1.87637861,  0.09686725],\n",
       "       [-1.99087515, -1.87637861,  0.07863156],\n",
       "       [ 0.06146394, -1.90755736, -1.92793758],\n",
       "       [ 0.06146394, -1.90755736, -1.92793758],\n",
       "       [ 0.06146394, -1.90755736, -1.92793758],\n",
       "       [ 0.06146394, -1.90755736, -1.92793758],\n",
       "       [-1.995715  ,  0.04758267, -1.92720695],\n",
       "       [ 0.06146394, -1.90755736, -1.92793758],\n",
       "       [ 0.06146394, -1.90755736, -1.92793758],\n",
       "       [-1.99712219, -1.87637861,  0.04166049],\n",
       "       [-1.995715  ,  0.04758267, -1.92720695],\n",
       "       [ 0.06146394, -1.90755736, -1.92793758]])"
      ]
     },
     "execution_count": 19,
     "metadata": {},
     "output_type": "execute_result"
    }
   ],
   "source": [
    "decision_function = gbrt.decision_function(X_test)\n",
    "decision_function"
   ]
  },
  {
   "cell_type": "code",
   "execution_count": 20,
   "id": "135a15a6",
   "metadata": {},
   "outputs": [
    {
     "data": {
      "text/plain": [
       "True"
      ]
     },
     "execution_count": 20,
     "metadata": {},
     "output_type": "execute_result"
    }
   ],
   "source": [
    "np.all(np.argmax(decision_function, axis = 1) == gbrt.predict(X_test))"
   ]
  },
  {
   "cell_type": "code",
   "execution_count": 21,
   "id": "2e74a268",
   "metadata": {},
   "outputs": [
    {
     "data": {
      "text/plain": [
       "array([[0.10217718, 0.78840034, 0.10942248],\n",
       "       [0.78347147, 0.10936745, 0.10716108],\n",
       "       [0.09818072, 0.11005864, 0.79176065],\n",
       "       [0.10217718, 0.78840034, 0.10942248],\n",
       "       [0.10360005, 0.66723901, 0.22916094],\n",
       "       [0.78347147, 0.10936745, 0.10716108],\n",
       "       [0.10217718, 0.78840034, 0.10942248],\n",
       "       [0.09763381, 0.11012538, 0.79224081],\n",
       "       [0.10217718, 0.78840034, 0.10942248],\n",
       "       [0.10217718, 0.78840034, 0.10942248],\n",
       "       [0.09905185, 0.11172485, 0.78922331],\n",
       "       [0.78347147, 0.10936745, 0.10716108],\n",
       "       [0.78347147, 0.10936745, 0.10716108],\n",
       "       [0.78347147, 0.10936745, 0.10716108],\n",
       "       [0.78347147, 0.10936745, 0.10716108],\n",
       "       [0.10217718, 0.78840034, 0.10942248],\n",
       "       [0.09815477, 0.1100618 , 0.79178343],\n",
       "       [0.10217718, 0.78840034, 0.10942248],\n",
       "       [0.10217718, 0.78840034, 0.10942248],\n",
       "       [0.09815477, 0.1100618 , 0.79178343],\n",
       "       [0.78347147, 0.10936745, 0.10716108],\n",
       "       [0.10178234, 0.11626145, 0.78195621],\n",
       "       [0.78347147, 0.10936745, 0.10716108],\n",
       "       [0.09815477, 0.1100618 , 0.79178343],\n",
       "       [0.09957954, 0.11165941, 0.78876105],\n",
       "       [0.09815477, 0.1100618 , 0.79178343],\n",
       "       [0.09818072, 0.11005864, 0.79176065],\n",
       "       [0.09957954, 0.11165941, 0.78876105],\n",
       "       [0.78347147, 0.10936745, 0.10716108],\n",
       "       [0.78347147, 0.10936745, 0.10716108],\n",
       "       [0.78347147, 0.10936745, 0.10716108],\n",
       "       [0.78347147, 0.10936745, 0.10716108],\n",
       "       [0.10217718, 0.78840034, 0.10942248],\n",
       "       [0.78347147, 0.10936745, 0.10716108],\n",
       "       [0.78347147, 0.10936745, 0.10716108],\n",
       "       [0.10194108, 0.11502374, 0.78303519],\n",
       "       [0.10217718, 0.78840034, 0.10942248],\n",
       "       [0.78347147, 0.10936745, 0.10716108]])"
      ]
     },
     "execution_count": 21,
     "metadata": {},
     "output_type": "execute_result"
    }
   ],
   "source": [
    "predict_proba = gbrt.predict_proba(X_test)\n",
    "predict_proba"
   ]
  },
  {
   "cell_type": "code",
   "execution_count": 22,
   "id": "e1e78670",
   "metadata": {},
   "outputs": [
    {
     "data": {
      "text/plain": [
       "array([1., 1., 1., 1., 1., 1., 1., 1., 1., 1., 1., 1., 1., 1., 1., 1., 1.,\n",
       "       1., 1., 1., 1., 1., 1., 1., 1., 1., 1., 1., 1., 1., 1., 1., 1., 1.,\n",
       "       1., 1., 1., 1.])"
      ]
     },
     "execution_count": 22,
     "metadata": {},
     "output_type": "execute_result"
    }
   ],
   "source": [
    "np.sum(predict_proba,axis = 1)"
   ]
  },
  {
   "cell_type": "code",
   "execution_count": 23,
   "id": "56712f73",
   "metadata": {},
   "outputs": [
    {
     "data": {
      "text/plain": [
       "True"
      ]
     },
     "execution_count": 23,
     "metadata": {},
     "output_type": "execute_result"
    }
   ],
   "source": [
    "np.all(np.argmax(predict_proba, axis = 1) == gbrt.predict(X_test))"
   ]
  },
  {
   "cell_type": "code",
   "execution_count": 24,
   "id": "149fd5b5",
   "metadata": {},
   "outputs": [
    {
     "data": {
      "text/plain": [
       "array(['setosa', 'versicolor', 'virginica'], dtype='<U10')"
      ]
     },
     "execution_count": 24,
     "metadata": {},
     "output_type": "execute_result"
    }
   ],
   "source": [
    "iris.target_names"
   ]
  },
  {
   "cell_type": "code",
   "execution_count": 25,
   "id": "20eb666e",
   "metadata": {},
   "outputs": [],
   "source": [
    "named_target = iris.target_names[y_train]"
   ]
  },
  {
   "cell_type": "code",
   "execution_count": 26,
   "id": "934ce2de",
   "metadata": {},
   "outputs": [],
   "source": [
    "from sklearn.linear_model import LogisticRegression"
   ]
  },
  {
   "cell_type": "code",
   "execution_count": 27,
   "id": "1bbe3fda",
   "metadata": {},
   "outputs": [],
   "source": [
    "logreg = LogisticRegression().fit(X_train, named_target)"
   ]
  },
  {
   "cell_type": "code",
   "execution_count": 28,
   "id": "52754982",
   "metadata": {},
   "outputs": [
    {
     "data": {
      "text/plain": [
       "array([[ -3.03499321,   2.29425248,   0.74074073],\n",
       "       [  5.91897443,   3.09086203,  -9.00983646],\n",
       "       [-10.05185482,   1.8745736 ,   8.17728122],\n",
       "       [ -2.7327919 ,   2.03622628,   0.69656562],\n",
       "       [ -3.73730761,   2.475568  ,   1.2617396 ],\n",
       "       [  6.03557963,   3.03459875,  -9.07017838],\n",
       "       [ -0.28246979,   2.17692712,  -1.89445733],\n",
       "       [ -5.08438189,   1.70755665,   3.37682525],\n",
       "       [ -3.45483147,   2.35294938,   1.10188209],\n",
       "       [ -1.14537934,   2.34758244,  -1.2022031 ],\n",
       "       [ -4.54163979,   1.696957  ,   2.84468279],\n",
       "       [  6.42918453,   3.10051706,  -9.52970159],\n",
       "       [  6.75151419,   3.24338038,  -9.99489456],\n",
       "       [  6.24916678,   3.09796127,  -9.34712805],\n",
       "       [  6.61880949,   2.83424536,  -9.45305485],\n",
       "       [ -3.046041  ,   1.94572148,   1.10031951],\n",
       "       [ -6.55404992,   1.46148012,   5.0925698 ],\n",
       "       [ -1.15322751,   2.38303184,  -1.22980433],\n",
       "       [ -2.51135658,   2.0641394 ,   0.44721718],\n",
       "       [ -6.23295266,   1.51653552,   4.71641714],\n",
       "       [  6.08764181,   2.87218999,  -8.9598318 ],\n",
       "       [ -3.90708391,   1.74894903,   2.15813488],\n",
       "       [  5.95822979,   2.81330037,  -8.77153016],\n",
       "       [ -6.13463071,   1.58991956,   4.54471116],\n",
       "       [ -7.56497186,   1.93051097,   5.63446089],\n",
       "       [ -5.33163151,   1.6171224 ,   3.71450912],\n",
       "       [ -6.6987551 ,   2.00978638,   4.68896872],\n",
       "       [ -6.8182428 ,   1.45445142,   5.36379138],\n",
       "       [  6.23254064,   2.95374899,  -9.18628963],\n",
       "       [  5.95668027,   2.9531103 ,  -8.90979057],\n",
       "       [  7.89329008,   2.82747888, -10.72076895],\n",
       "       [  6.83899788,   2.87466524,  -9.71366312],\n",
       "       [ -2.48988825,   2.41878716,   0.07110109],\n",
       "       [  6.23275016,   2.86018081,  -9.09293098],\n",
       "       [  6.90376495,   2.78692788,  -9.69069284],\n",
       "       [ -4.77650164,   1.90881199,   2.86768965],\n",
       "       [ -2.61247498,   2.14307206,   0.46940292],\n",
       "       [  6.4021233 ,   3.0505027 ,  -9.452626  ]])"
      ]
     },
     "execution_count": 28,
     "metadata": {},
     "output_type": "execute_result"
    }
   ],
   "source": [
    "decision_function = logreg.decision_function(X_test)\n",
    "decision_function"
   ]
  },
  {
   "cell_type": "code",
   "execution_count": 29,
   "id": "f3a6225c",
   "metadata": {},
   "outputs": [
    {
     "data": {
      "text/plain": [
       "array(['versicolor', 'setosa', 'virginica', 'versicolor', 'versicolor',\n",
       "       'setosa', 'versicolor', 'virginica', 'versicolor', 'versicolor',\n",
       "       'virginica', 'setosa', 'setosa', 'setosa', 'setosa', 'versicolor',\n",
       "       'virginica', 'versicolor', 'versicolor', 'virginica', 'setosa',\n",
       "       'virginica', 'setosa', 'virginica', 'virginica', 'virginica',\n",
       "       'virginica', 'virginica', 'setosa', 'setosa', 'setosa', 'setosa',\n",
       "       'versicolor', 'setosa', 'setosa', 'virginica', 'versicolor',\n",
       "       'setosa'], dtype='<U10')"
      ]
     },
     "execution_count": 29,
     "metadata": {},
     "output_type": "execute_result"
    }
   ],
   "source": [
    "pred = logreg.classes_[np.argmax(decision_function, axis = 1)]\n",
    "pred"
   ]
  },
  {
   "cell_type": "code",
   "execution_count": 30,
   "id": "817813ed",
   "metadata": {},
   "outputs": [
    {
     "data": {
      "text/plain": [
       "True"
      ]
     },
     "execution_count": 30,
     "metadata": {},
     "output_type": "execute_result"
    }
   ],
   "source": [
    "np.all(pred == logreg.predict(X_test))"
   ]
  },
  {
   "cell_type": "code",
   "execution_count": null,
   "id": "1be6bac1",
   "metadata": {},
   "outputs": [],
   "source": []
  }
 ],
 "metadata": {
  "kernelspec": {
   "display_name": "Python 3",
   "language": "python",
   "name": "python3"
  },
  "language_info": {
   "codemirror_mode": {
    "name": "ipython",
    "version": 3
   },
   "file_extension": ".py",
   "mimetype": "text/x-python",
   "name": "python",
   "nbconvert_exporter": "python",
   "pygments_lexer": "ipython3",
   "version": "3.8.8"
  }
 },
 "nbformat": 4,
 "nbformat_minor": 5
}
