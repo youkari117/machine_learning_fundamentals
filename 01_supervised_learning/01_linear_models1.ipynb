{
 "cells": [
  {
   "cell_type": "markdown",
   "id": "45b460fa",
   "metadata": {},
   "source": [
    "<h1>Summary</h1>"
   ]
  },
  {
   "cell_type": "markdown",
   "id": "aaa4521e",
   "metadata": {},
   "source": [
    "<h3>OLS : Ordinary Least Squares</h3>\n",
    "OLS（ただの線形回帰）は、データセットが多くの特徴量を持つ場合は、過剰適合の可能性が高くなる<br>\n",
    "LinearRegressionは内部で正規方程式（損失関数を最小にするパラメータ$\\theta$を求める方程式）を解いている。ただし、疑似逆行列（ムーア・ペンローズの逆行列）を用いて近似的に算出している。疑似逆行列は特異値分解（SVD）という行列の標準的な分解テクニックを用いて算出可能。<br>\n",
    "\n",
    "損失関数（平均二乗誤差：mean square error）：$MSE(X, h_\\theta)=\\frac{1}{m} \\sum_{i=1}^{m} (\\theta^T x^{(i)} - y^{(i)} )^2$"
   ]
  },
  {
   "cell_type": "markdown",
   "id": "da52d585",
   "metadata": {},
   "source": [
    "<h3>Ridge</h3>\n",
    "Ridge回帰は最小二乗法を行いつつ、係数の絶対値の大きさを可能な限り小さくするように（個々の特徴量が出力に与える影響をなるべく小さくするように）制約される（L2正則化）<br>\n",
    "正則化とは、過剰適合を防ぐために明示的にモデルを制約することである<br>\n",
    "RidgeもLinearRegressionと同様には内部で正規方程式（損失関数を最小にするパラメータ$\\theta$を求める方程式）を解いている。Andre-Louis Choleskyの行列分解テクニックを用いている？<br>\n",
    "\n",
    "損失関数：$J(\\theta)=MSE(\\theta) + \\alpha\\frac{1}{2} \\sum_{i=1}^{n} {\\theta_i}^2$\n",
    "\n",
    "<h4>重要なパラメータ</h4>\n",
    "alpha（デフォルトは1.0）<br>\n",
    "alphaを大きくする⇒係数の制約が強くなる、alphaを小さくする⇒係数の制約が弱くなる（=Linear Regressionと同じような挙動になる）"
   ]
  },
  {
   "cell_type": "markdown",
   "id": "b787bcab",
   "metadata": {},
   "source": [
    "<h3>Lasso</h3>\n",
    "Lasso回帰は、Ridge回帰と同様に、係数が0になるように制約をかけるが、その結果いくつかの係数が完全に0になる（L1正則化）<br>\n",
    "これはモデルにおいていくつかの特徴量が完全に無視される（自動的に特徴量が選択される）ことを意味し、どの特徴量が重要なのかが明らかとなり、モデルを解釈しやすくなる<br>\n",
    "\n",
    "損失関数：$J(\\theta)=MSE(\\theta) + \\alpha\\sum_{i=1}^{n} |\\theta_i|$\n",
    "\n",
    "<h4>重要なパラメータ</h4>\n",
    "alpha（デフォルトは1.0）<br>\n",
    "alphaを大きくする⇒係数の制約が強くなる、alphaを小さくする⇒係数の制約が弱くなる（=Linear Regressionと同じような挙動になる）"
   ]
  },
  {
   "cell_type": "markdown",
   "id": "69256a05",
   "metadata": {},
   "source": [
    "<h3>Elastic Net</h3>\n",
    "Elastic Netは、Ridge回帰とLasso回帰の中間である。正則化項（損失関数の$\\alpha$が関連する部分）はRidge回帰とLasso回帰の正則化項を混ぜ合わせたもので、混ぜ方は割合rで変えられる。Elastic Netは、r=0のときにはRidge回帰と等しく、r=1のときにはLasso回帰と等しい<br>\n",
    "ほとんどすべての場合、何らかの正則化をすべきなので、一般にプレーンな線形回帰は避けた方がよい。Ridgeはよいデフォルトになるが、意味がある特徴量は一部だけなのではないかと疑われるときには、役に立たない特徴量の重みを0に引き下げてくれるLassoやElastic Netを使った方がよい。そして、Lassoは訓練インスタンスの数よりも特徴量の数の方が多いときや、複数の特徴量の間に強い相関があるときに不規則な動きを示すことがあるので、一般にLassoよりもElastic Netの方がよい<br>\n",
    "\n",
    "損失関数：$J(\\theta)=MSE(\\theta) + r\\alpha\\sum_{i=1}^{n} |\\theta_i| + \\frac{1-r}{2}\\alpha \\sum_{i=1}^{n} {\\theta_i}^2$\n",
    "\n",
    "<h4>重要なパラメータ</h4>\n",
    "・alpha（デフォルトは1.0）<br>\n",
    "alphaを大きくする⇒係数の制約が強くなる、alphaを小さくする⇒係数の制約が弱くなる（=Linear Regressionと同じような挙動になる）<br>\n",
    "・l1_ratio（=ミックスの割合r）<br>\n",
    "l1_ratio=0のときにはRidge回帰と等しく、l1_ratio=1のときにはLasso回帰と等しい"
   ]
  },
  {
   "cell_type": "code",
   "execution_count": 1,
   "id": "a1104451",
   "metadata": {},
   "outputs": [],
   "source": [
    "import numpy as np\n",
    "import pandas as pd\n",
    "import matplotlib.pyplot as plt\n",
    "import seaborn as sns\n",
    "sns.set_style(\"whitegrid\")\n",
    "%matplotlib inline"
   ]
  },
  {
   "cell_type": "code",
   "execution_count": 2,
   "id": "1b8e7989",
   "metadata": {},
   "outputs": [],
   "source": [
    "import mglearn"
   ]
  },
  {
   "cell_type": "markdown",
   "id": "628612ea",
   "metadata": {},
   "source": [
    "<h1>OLS : Ordinary Least Squares</h1>"
   ]
  },
  {
   "cell_type": "code",
   "execution_count": 3,
   "id": "6dce9e60",
   "metadata": {},
   "outputs": [],
   "source": [
    "from sklearn.datasets import load_boston\n",
    "from sklearn.model_selection import train_test_split\n",
    "from sklearn.linear_model import LinearRegression\n",
    "\n",
    "boston = load_boston()\n",
    "X_train, X_test, y_train, y_test = train_test_split(boston.data, boston.target, random_state = 0)\n",
    "lr = LinearRegression().fit(X_train, y_train)"
   ]
  },
  {
   "cell_type": "code",
   "execution_count": 4,
   "id": "9cff2e84",
   "metadata": {},
   "outputs": [
    {
     "name": "stdout",
     "output_type": "stream",
     "text": [
      "lr.coef_: [-1.17735289e-01  4.40174969e-02 -5.76814314e-03  2.39341594e+00\n",
      " -1.55894211e+01  3.76896770e+00 -7.03517828e-03 -1.43495641e+00\n",
      "  2.40081086e-01 -1.12972810e-02 -9.85546732e-01  8.44443453e-03\n",
      " -4.99116797e-01]\n",
      "lr.intercept_: 36.933255457118975\n"
     ]
    }
   ],
   "source": [
    "# 係数と切片\n",
    "print(f\"lr.coef_: {lr.coef_}\")\n",
    "print(f\"lr.intercept_: {lr.intercept_}\")"
   ]
  },
  {
   "cell_type": "code",
   "execution_count": 5,
   "id": "7c98019f",
   "metadata": {},
   "outputs": [
    {
     "name": "stdout",
     "output_type": "stream",
     "text": [
      "Training set score: 0.77\n",
      "Test set score: 0.64\n"
     ]
    }
   ],
   "source": [
    "# 決定係数\n",
    "print(f\"Training set score: {lr.score(X_train, y_train):.2f}\")\n",
    "print(f\"Test set score: {lr.score(X_test, y_test):.2f}\")"
   ]
  },
  {
   "cell_type": "code",
   "execution_count": 6,
   "id": "b370819c",
   "metadata": {},
   "outputs": [
    {
     "name": "stdout",
     "output_type": "stream",
     "text": [
      "(506, 104)\n"
     ]
    }
   ],
   "source": [
    "# 以下では特徴量間の積（交互作用）も含んだ、拡張されたbostonデータを用いる\n",
    "X, y = mglearn.datasets.load_extended_boston()\n",
    "print(X.shape)\n",
    "X_train, X_test, y_train, y_test = train_test_split(X, y, random_state = 0)\n",
    "lr = LinearRegression().fit(X_train, y_train)"
   ]
  },
  {
   "cell_type": "code",
   "execution_count": 7,
   "id": "6259868e",
   "metadata": {},
   "outputs": [
    {
     "name": "stdout",
     "output_type": "stream",
     "text": [
      "Training set score: 0.95\n",
      "Test set score: 0.61\n"
     ]
    }
   ],
   "source": [
    "# 決定係数\n",
    "print(f\"Training set score: {lr.score(X_train, y_train):.2f}\")\n",
    "print(f\"Test set score: {lr.score(X_test, y_test):.2f}\")"
   ]
  },
  {
   "cell_type": "code",
   "execution_count": null,
   "id": "a8a3f758",
   "metadata": {},
   "outputs": [],
   "source": []
  },
  {
   "cell_type": "markdown",
   "id": "eab3611c",
   "metadata": {},
   "source": [
    "<h1>Ridge</h1>"
   ]
  },
  {
   "cell_type": "code",
   "execution_count": 8,
   "id": "f42865a1",
   "metadata": {},
   "outputs": [],
   "source": [
    "from sklearn.linear_model import Ridge"
   ]
  },
  {
   "cell_type": "code",
   "execution_count": 9,
   "id": "5cffc0d3",
   "metadata": {},
   "outputs": [
    {
     "name": "stdout",
     "output_type": "stream",
     "text": [
      "Training set score: 0.89\n",
      "Test set score: 0.75\n"
     ]
    }
   ],
   "source": [
    "ridge = Ridge().fit(X_train, y_train)\n",
    "print(f\"Training set score: {ridge.score(X_train, y_train):.2f}\")\n",
    "print(f\"Test set score: {ridge.score(X_test, y_test):.2f}\")"
   ]
  },
  {
   "cell_type": "code",
   "execution_count": 10,
   "id": "8439082a",
   "metadata": {},
   "outputs": [
    {
     "name": "stdout",
     "output_type": "stream",
     "text": [
      "Training set score: 0.79\n",
      "Test set score: 0.64\n"
     ]
    }
   ],
   "source": [
    "ridge10 = Ridge(alpha = 10).fit(X_train, y_train)\n",
    "print(f\"Training set score: {ridge10.score(X_train, y_train):.2f}\")\n",
    "print(f\"Test set score: {ridge10.score(X_test, y_test):.2f}\")"
   ]
  },
  {
   "cell_type": "code",
   "execution_count": 11,
   "id": "54ae62b5",
   "metadata": {},
   "outputs": [
    {
     "name": "stdout",
     "output_type": "stream",
     "text": [
      "Training set score: 0.93\n",
      "Test set score: 0.77\n"
     ]
    }
   ],
   "source": [
    "ridge01 = Ridge(alpha = 0.1).fit(X_train, y_train)\n",
    "print(f\"Training set score: {ridge01.score(X_train, y_train):.2f}\")\n",
    "print(f\"Test set score: {ridge01.score(X_test, y_test):.2f}\")"
   ]
  },
  {
   "cell_type": "code",
   "execution_count": 12,
   "id": "70a23640",
   "metadata": {},
   "outputs": [
    {
     "data": {
      "text/plain": [
       "<matplotlib.legend.Legend at 0x23f0882f880>"
      ]
     },
     "execution_count": 12,
     "metadata": {},
     "output_type": "execute_result"
    },
    {
     "data": {
      "image/png": "[encoded data removed]",
      "text/plain": [
       "<Figure size 1152x576 with 1 Axes>"
      ]
     },
     "metadata": {
      "needs_background": "light"
     },
     "output_type": "display_data"
    }
   ],
   "source": [
    "plt.figure(figsize = (16, 8))\n",
    "\n",
    "plt.plot(ridge.coef_, \"s\", label = \"Ridge alpha = 1\")\n",
    "plt.plot(ridge10.coef_, \"^\", label = \"Ridge alpha = 10\")\n",
    "plt.plot(ridge01.coef_, \"v\", label = \"Ridge alpha = 0.1\")\n",
    "plt.plot(lr.coef_, \"o\", label = \"LinearRegression\")\n",
    "\n",
    "plt.xlabel(\"Coefficient index\")\n",
    "plt.ylabel(\"Coefficient magnitude\")\n",
    "\n",
    "plt.hlines(0, 0, len(lr.coef_))\n",
    "plt.ylim(-25, 25)\n",
    "plt.legend()"
   ]
  },
  {
   "cell_type": "code",
   "execution_count": null,
   "id": "824126f4",
   "metadata": {},
   "outputs": [],
   "source": []
  },
  {
   "cell_type": "markdown",
   "id": "7e05f92b",
   "metadata": {},
   "source": [
    "<h1>Lasso</h1>"
   ]
  },
  {
   "cell_type": "code",
   "execution_count": 13,
   "id": "4ff9cf8e",
   "metadata": {},
   "outputs": [],
   "source": [
    "from sklearn.linear_model import Lasso"
   ]
  },
  {
   "cell_type": "code",
   "execution_count": 14,
   "id": "6020d888",
   "metadata": {},
   "outputs": [
    {
     "name": "stdout",
     "output_type": "stream",
     "text": [
      "Training set score: 0.29\n",
      "Test set score: 0.21\n"
     ]
    }
   ],
   "source": [
    "lasso = Lasso().fit(X_train, y_train)\n",
    "print(f\"Training set score: {lasso.score(X_train, y_train):.2f}\")\n",
    "print(f\"Test set score: {lasso.score(X_test, y_test):.2f}\")"
   ]
  },
  {
   "cell_type": "code",
   "execution_count": 15,
   "id": "01470626",
   "metadata": {},
   "outputs": [
    {
     "name": "stdout",
     "output_type": "stream",
     "text": [
      "Number of features used: 4\n"
     ]
    }
   ],
   "source": [
    "# 使用された特徴量の数\n",
    "print(f\"Number of features used: {np.sum(lasso.coef_ != 0)}\")"
   ]
  },
  {
   "cell_type": "code",
   "execution_count": 16,
   "id": "f67b0e56",
   "metadata": {},
   "outputs": [
    {
     "name": "stdout",
     "output_type": "stream",
     "text": [
      "Training set score: 0.90\n",
      "Test set score: 0.77\n"
     ]
    }
   ],
   "source": [
    "lasso001 = Lasso(alpha = 0.01, max_iter = 100000).fit(X_train, y_train)\n",
    "print(f\"Training set score: {lasso001.score(X_train, y_train):.2f}\")\n",
    "print(f\"Test set score: {lasso001.score(X_test, y_test):.2f}\")"
   ]
  },
  {
   "cell_type": "code",
   "execution_count": 17,
   "id": "39fa36ac",
   "metadata": {},
   "outputs": [
    {
     "name": "stdout",
     "output_type": "stream",
     "text": [
      "Number of features used: 33\n"
     ]
    }
   ],
   "source": [
    "# 使用された特徴量の数\n",
    "print(f\"Number of features used: {np.sum(lasso001.coef_ != 0)}\")"
   ]
  },
  {
   "cell_type": "code",
   "execution_count": 18,
   "id": "5192fe5d",
   "metadata": {},
   "outputs": [
    {
     "name": "stdout",
     "output_type": "stream",
     "text": [
      "Training set score: 0.95\n",
      "Test set score: 0.64\n"
     ]
    }
   ],
   "source": [
    "lasso00001 = Lasso(alpha = 0.0001, max_iter = 100000).fit(X_train, y_train)\n",
    "print(f\"Training set score: {lasso00001.score(X_train, y_train):.2f}\")\n",
    "print(f\"Test set score: {lasso00001.score(X_test, y_test):.2f}\")"
   ]
  },
  {
   "cell_type": "code",
   "execution_count": 19,
   "id": "da1f9904",
   "metadata": {},
   "outputs": [
    {
     "name": "stdout",
     "output_type": "stream",
     "text": [
      "Number of features used: 96\n"
     ]
    }
   ],
   "source": [
    "# 使用された特徴量の数\n",
    "print(f\"Number of features used: {np.sum(lasso00001.coef_ != 0)}\")"
   ]
  },
  {
   "cell_type": "code",
   "execution_count": 20,
   "id": "af6f3d20",
   "metadata": {},
   "outputs": [
    {
     "data": {
      "text/plain": [
       "Text(0, 0.5, 'Coefficient magnitude')"
      ]
     },
     "execution_count": 20,
     "metadata": {},
     "output_type": "execute_result"
    },
    {
     "data": {
      "image/png": "[encoded data removed]",
      "text/plain": [
       "<Figure size 1152x576 with 1 Axes>"
      ]
     },
     "metadata": {
      "needs_background": "light"
     },
     "output_type": "display_data"
    }
   ],
   "source": [
    "plt.figure(figsize = (16, 8))\n",
    "\n",
    "plt.plot(lasso.coef_, \"s\", label = \"Lasso alpha = 1\")\n",
    "plt.plot(lasso001.coef_, \"^\", label = \"Lasso alpha = 0.01\")\n",
    "plt.plot(lasso00001.coef_, \"v\", label = \"Lasso alpha = 0.0001\")\n",
    "plt.plot(ridge01.coef_, \"o\", label = \"Ridge alpha = 0.1\")\n",
    "\n",
    "plt.legend(ncol = 2, loc = (0,1.05))\n",
    "plt.ylim(-25, 25)\n",
    "plt.xlabel(\"Coefficient index\")\n",
    "plt.ylabel(\"Coefficient magnitude\")"
   ]
  },
  {
   "cell_type": "code",
   "execution_count": null,
   "id": "8a53a17a",
   "metadata": {},
   "outputs": [],
   "source": []
  },
  {
   "cell_type": "markdown",
   "id": "634f1ebb",
   "metadata": {},
   "source": [
    "<h1>Elastic Net</h1>"
   ]
  },
  {
   "cell_type": "code",
   "execution_count": 21,
   "id": "bb2d9569",
   "metadata": {},
   "outputs": [
    {
     "name": "stdout",
     "output_type": "stream",
     "text": [
      "Training set score: 0.72\n",
      "Test set score: 0.55\n",
      "lr.coef_: [-0.11668517  0.45449994 -0.69302345  0.4763029  -0.15742755  3.3411999\n",
      " -0.         -1.10302997  0.         -0.76577739 -2.44310046  0.81593634\n",
      " -3.68229623 -0.          0.         -0.          0.         -0.\n",
      " -0.         -0.04392692 -0.         -0.10634509 -0.01630692 -0.\n",
      " -0.         -0.          0.50142111 -0.          0.          0.\n",
      "  1.13562036  0.         -0.          0.         -0.         -0.\n",
      "  0.48554848 -0.         -0.          0.         -0.34775794 -0.\n",
      " -0.14234577 -0.         -0.         -0.         -0.31701609 -0.\n",
      " -1.19205178  0.47633391  0.          0.37008422  0.32658736  0.\n",
      "  0.61580677  0.39282295  0.19323358  0.50531751 -0.         -0.76139625\n",
      "  0.         -0.36275775 -0.         -0.         -0.34129909 -0.62737161\n",
      "  0.         -1.36265017  5.18790002  0.98595118  0.         -0.\n",
      " -0.07349976 -0.07112614  4.45852598 -1.41867541 -0.         -0.20644641\n",
      " -0.         -0.29114617 -1.52639896  0.07396454 -2.80936476 -0.47470243\n",
      " -0.         -0.         -0.98870189 -0.85817723 -0.25002022  0.\n",
      " -0.         -0.          0.45503911 -1.12861858 -0.         -0.40494523\n",
      " -0.         -1.60078375 -2.04136492 -1.19320739 -2.07522079  1.05426491\n",
      " -2.8780544  -0.66396486]\n",
      "lr.intercept_: 24.612026081633612\n",
      "Number of features used: 58\n"
     ]
    }
   ],
   "source": [
    "from sklearn.linear_model import ElasticNet\n",
    "\n",
    "elastic_net = ElasticNet(alpha = 0.1, l1_ratio = 0.5).fit(X_train, y_train)\n",
    "\n",
    "# 決定係数\n",
    "print(f\"Training set score: {elastic_net.score(X_train, y_train):.2f}\")\n",
    "print(f\"Test set score: {elastic_net.score(X_test, y_test):.2f}\")\n",
    "\n",
    "# 係数と切片\n",
    "print(f\"lr.coef_: {elastic_net.coef_}\")\n",
    "print(f\"lr.intercept_: {elastic_net.intercept_}\")\n",
    "\n",
    "# 使用された特徴量の数\n",
    "print(f\"Number of features used: {np.sum(elastic_net.coef_ != 0)}\")"
   ]
  },
  {
   "cell_type": "code",
   "execution_count": null,
   "id": "34fd9ec4",
   "metadata": {},
   "outputs": [],
   "source": []
  }
 ],
 "metadata": {
  "kernelspec": {
   "display_name": "Python 3 (ipykernel)",
   "language": "python",
   "name": "python3"
  },
  "language_info": {
   "codemirror_mode": {
    "name": "ipython",
    "version": 3
   },
   "file_extension": ".py",
   "mimetype": "text/x-python",
   "name": "python",
   "nbconvert_exporter": "python",
   "pygments_lexer": "ipython3",
   "version": "3.8.11"
  }
 },
 "nbformat": 4,
 "nbformat_minor": 5
}
